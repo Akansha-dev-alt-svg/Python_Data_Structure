{
  "nbformat": 4,
  "nbformat_minor": 0,
  "metadata": {
    "colab": {
      "provenance": []
    },
    "kernelspec": {
      "name": "python3",
      "display_name": "Python 3"
    },
    "language_info": {
      "name": "python"
    }
  },
  "cells": [
    {
      "cell_type": "markdown",
      "source": [
        "**Section_A**\n",
        "\n",
        "---\n",
        "\n",
        "Answer_1. **What are data structures, and why are they important?**\n",
        "\n",
        "   Data structures are ways to store and organize data. They're important for writing efficient and clean code.\n",
        "\n",
        "Answer_2. **Mutable vs Immutable with examples:**\n",
        "\n",
        "   * **Mutable:** Can change after creation (e.g., `list`, `dict`).\n",
        "\n",
        "     ```python\n",
        "     my_list = [1, 3]; my_list.append(2)\n",
        "     ```\n",
        "   * **Immutable:** Cannot be changed (e.g., `tuple`, `str`).\n",
        "\n",
        "     ```python\n",
        "     my_str = \"hi\"; my_str[0] = \"H\" → Error\n",
        "     ```\n",
        "\n",
        "Answer_3. **Lists vs Tuples:**\n",
        "\n",
        "   * Lists: Mutable, slow, use more memory.\n",
        "   * Tuples: Immutable, faster, use less memory.\n",
        "\n",
        "\n",
        "Answer_4. **How dictionaries store data:**\n",
        "\n",
        "   They store data as key-value pairs using a hash table.\n",
        "\n",
        "\n",
        "Answer_5. **Why use a set instead of a list:**\n",
        "\n",
        "   Sets remove duplicates automatically and offer faster lookups.\n",
        "\n",
        "\n",
        "Answer_6. **What is a string and how is it different from a list:**\n",
        "\n",
        "   A string is a sequence of characters. Unlike lists, strings are immutable and only hold characters.\n",
        "\n",
        "\n",
        "Answer_7. **How tuples ensure data integrity:**\n",
        "\n",
        "   Since tuples can’t be changed, the data stays safe and unchanged.\n",
        "\n",
        "\n",
        "Answer_8. **What is a hash table and its relation to dictionaries:**\n",
        "\n",
        "   A hash table is a structure that maps keys to values using hashes. Python dictionaries use hash tables internally.\n",
        "\n",
        "\n",
        "Answer_9. **Can lists contain different data types:**\n",
        "\n",
        "   Yes, Python lists can hold any mix of types (e.g., `[1, \"text\", 3.5]`).\n",
        "\n",
        "\n",
        "Answer_10. **Why strings are immutable:**\n",
        "\n",
        "    For memory efficiency, thread safety, and to make them hashable (usable as dictionary keys).\n",
        "\n",
        "\n",
        "Answer_11. **Advantages of dictionaries over lists:**\n",
        "\n",
        "    Dictionaries offer fast lookups by keys, while lists need to search each item.\n",
        "\n",
        "\n",
        "Answer_12. **When to use a tuple instead of a list:**\n",
        "\n",
        "    When the data should not change, like `(latitude, longitude)` coordinates.\n",
        "\n",
        "\n",
        "Answer_13. **How sets handle duplicates:**\n",
        "\n",
        "    Sets automatically remove duplicates.\n",
        "\n",
        "    ```python\n",
        "    set([1, 2, 2, 3]) → {1, 2, 3}\n",
        "    ```\n",
        "\n",
        "\n",
        "Answer_14. **“in” for lists vs dictionaries:**\n",
        "\n",
        "\n",
        "    * Lists: Checks if a value exists.\n",
        "    * Dicts: Checks if a **key** exists.\n",
        "\n",
        "\n",
        "Answer_15. **Can you modify tuple elements? Why not?**\n",
        "\n",
        "    No, tuples are immutable. Their values cannot be changed once created.\n",
        "\n",
        "\n",
        "Answer_16. **What is a nested dictionary (example):**\n",
        "\n",
        "    A dictionary inside another dictionary.\n",
        "\n",
        "    ```python\n",
        "    student = {\"name\": \"Ria\", \"marks\": {\"math\": 90, \"science\": 85}}\n",
        "    ```\n",
        "\n",
        "\n",
        "Answer_17. **Time complexity of accessing dictionary elements:**\n",
        "\n",
        "    On average, it's **O(1)** (very fast).\n",
        "\n",
        "\n",
        "Answer_18. **When are lists preferred over dictionaries:**\n",
        "\n",
        "    When the order matters or when storing simple collections without key-value structure.\n",
        "\n",
        "\n",
        "Answer_19. **Why dictionaries are unordered and its effect:**\n",
        "\n",
        "    They didn’t preserve order before Python 3.7. Now they do, but you should still not rely on order unless necessary.\n",
        "    \n",
        "\n",
        "Answer_20. **List vs Dictionary (data retrieval):**\n",
        "\n",
        "    * List: Access by index (e.g., `list[0]`)\n",
        "    * Dict: Access by key (e.g., `dict[\"name\"]`) → more meaningful and faster for lookups.\n",
        "\n",
        "---\n"
      ],
      "metadata": {
        "id": "TYSiZrHge-f6"
      }
    },
    {
      "cell_type": "markdown",
      "source": [
        "**Section_B**\n",
        "---"
      ],
      "metadata": {
        "id": "Lkh60pc-hb4D"
      }
    },
    {
      "cell_type": "code",
      "execution_count": 2,
      "metadata": {
        "id": "QwNYGaWnp4yB",
        "colab": {
          "base_uri": "https://localhost:8080/"
        },
        "outputId": "3794dd55-f85d-4699-bc1f-4b86142cce8a"
      },
      "outputs": [
        {
          "output_type": "stream",
          "name": "stdout",
          "text": [
            "PWskills\n"
          ]
        }
      ],
      "source": [
        "# Answer_1:\n",
        "name = \"PWskills\"\n",
        "print(name)\n"
      ]
    },
    {
      "cell_type": "code",
      "source": [
        "# Answer_2:\n",
        "\n",
        "s = \"Hello World\"\n",
        "print(len(s))\n"
      ],
      "metadata": {
        "colab": {
          "base_uri": "https://localhost:8080/"
        },
        "id": "EejiSDzwii5u",
        "outputId": "da69e2a0-bd6a-48c5-f643-7ab19ce10482"
      },
      "execution_count": 3,
      "outputs": [
        {
          "output_type": "stream",
          "name": "stdout",
          "text": [
            "11\n"
          ]
        }
      ]
    },
    {
      "cell_type": "code",
      "source": [
        "# Answer_3:\n",
        "\n",
        "text = \"Python Programming\"\n",
        "print(text[:3])\n"
      ],
      "metadata": {
        "colab": {
          "base_uri": "https://localhost:8080/"
        },
        "id": "VpEm7rXnirZH",
        "outputId": "92940459-f06d-4987-86e3-8b53cafd879c"
      },
      "execution_count": 4,
      "outputs": [
        {
          "output_type": "stream",
          "name": "stdout",
          "text": [
            "Pyt\n"
          ]
        }
      ]
    },
    {
      "cell_type": "code",
      "source": [
        "# Answer_4:\n",
        "\n",
        "s = \"hello\"\n",
        "print(s.upper())\n"
      ],
      "metadata": {
        "colab": {
          "base_uri": "https://localhost:8080/"
        },
        "id": "VZL4xhmijLL-",
        "outputId": "e017965f-fcf0-418e-d43f-676cead9a7c1"
      },
      "execution_count": 5,
      "outputs": [
        {
          "output_type": "stream",
          "name": "stdout",
          "text": [
            "HELLO\n"
          ]
        }
      ]
    },
    {
      "cell_type": "code",
      "source": [
        "# Answer_5:\n",
        "\n",
        "text = \"I like apple\"\n",
        "print(text.replace(\"apple\", \"orange\"))"
      ],
      "metadata": {
        "colab": {
          "base_uri": "https://localhost:8080/"
        },
        "id": "zTYEinPmjSrI",
        "outputId": "2f26a8d9-3045-4f5a-d7f9-1e51a98792cc"
      },
      "execution_count": 6,
      "outputs": [
        {
          "output_type": "stream",
          "name": "stdout",
          "text": [
            "I like orange\n"
          ]
        }
      ]
    },
    {
      "cell_type": "code",
      "source": [
        "# Answer_6:\n",
        "\n",
        "numbers = [1, 2, 3, 4, 5]\n",
        "print(numbers)"
      ],
      "metadata": {
        "colab": {
          "base_uri": "https://localhost:8080/"
        },
        "id": "dn8tFB2IjZlz",
        "outputId": "fc59d0a3-5108-4919-f402-722b8d440417"
      },
      "execution_count": 7,
      "outputs": [
        {
          "output_type": "stream",
          "name": "stdout",
          "text": [
            "[1, 2, 3, 4, 5]\n"
          ]
        }
      ]
    },
    {
      "cell_type": "code",
      "source": [
        "#Answer_7:\n",
        "\n",
        "nums = [1, 2, 3, 4]\n",
        "nums.append(10)\n",
        "print(nums)"
      ],
      "metadata": {
        "colab": {
          "base_uri": "https://localhost:8080/"
        },
        "id": "tTHd6XcEjfd_",
        "outputId": "28b88eb2-d4df-4fb6-cb3b-6d384e0a466e"
      },
      "execution_count": 8,
      "outputs": [
        {
          "output_type": "stream",
          "name": "stdout",
          "text": [
            "[1, 2, 3, 4, 10]\n"
          ]
        }
      ]
    },
    {
      "cell_type": "code",
      "source": [
        "# Answer_8:\n",
        "\n",
        "nums = [1, 2, 3, 4, 5]\n",
        "nums.remove(3)"
      ],
      "metadata": {
        "colab": {
          "base_uri": "https://localhost:8080/"
        },
        "id": "m6mzzPb2jmwL",
        "outputId": "cc260df8-240d-46b1-842f-e2e5001a1e8f"
      },
      "execution_count": 9,
      "outputs": [
        {
          "output_type": "stream",
          "name": "stdout",
          "text": [
            "[1, 2, 4, 5]\n"
          ]
        }
      ]
    },
    {
      "cell_type": "code",
      "source": [
        "# Answer_9:\n",
        "\n",
        "letters = ['a', 'b', 'c', 'd']\n",
        "print(letters[1])"
      ],
      "metadata": {
        "colab": {
          "base_uri": "https://localhost:8080/"
        },
        "id": "GnoQVKYAj3Ye",
        "outputId": "6b2fe532-44bd-446a-c7bf-7f0b7a16d3cc"
      },
      "execution_count": 11,
      "outputs": [
        {
          "output_type": "stream",
          "name": "stdout",
          "text": [
            "b\n"
          ]
        }
      ]
    },
    {
      "cell_type": "code",
      "source": [
        "# Answer_10:\n",
        "\n",
        "lst = [10, 20, 30, 40, 50]\n",
        "lst.reverse()\n",
        "print(lst)"
      ],
      "metadata": {
        "colab": {
          "base_uri": "https://localhost:8080/"
        },
        "id": "5dkbx9KrjztY",
        "outputId": "cb470710-2510-4e59-d668-a94621ff958d"
      },
      "execution_count": 12,
      "outputs": [
        {
          "output_type": "stream",
          "name": "stdout",
          "text": [
            "[50, 40, 30, 20, 10]\n"
          ]
        }
      ]
    },
    {
      "cell_type": "code",
      "source": [
        "# Answer_11:\n",
        "\n",
        "t = (100, 200, 300)\n",
        "print(t)"
      ],
      "metadata": {
        "colab": {
          "base_uri": "https://localhost:8080/"
        },
        "id": "FPA9ZoC4kK9R",
        "outputId": "ebf631a8-3178-483b-e08e-4acc82d83799"
      },
      "execution_count": 13,
      "outputs": [
        {
          "output_type": "stream",
          "name": "stdout",
          "text": [
            "(100, 200, 300)\n"
          ]
        }
      ]
    },
    {
      "cell_type": "code",
      "source": [
        "#Answer_12:\n",
        "\n",
        "colors = ('red', 'green', 'blue', 'yellow')\n",
        "print(colors[-2])"
      ],
      "metadata": {
        "colab": {
          "base_uri": "https://localhost:8080/"
        },
        "id": "hAtHa3Rrkash",
        "outputId": "bc9d5455-96a4-40ce-ba69-950023a08c8b"
      },
      "execution_count": 14,
      "outputs": [
        {
          "output_type": "stream",
          "name": "stdout",
          "text": [
            "blue\n"
          ]
        }
      ]
    },
    {
      "cell_type": "code",
      "source": [
        "# Answer_13:\n",
        "\n",
        "nums = (10, 20, 5, 15)\n",
        "print(min(nums))"
      ],
      "metadata": {
        "colab": {
          "base_uri": "https://localhost:8080/"
        },
        "id": "blqPaprNkgQ5",
        "outputId": "aa5be702-f189-43d0-be70-98640c23daed"
      },
      "execution_count": 15,
      "outputs": [
        {
          "output_type": "stream",
          "name": "stdout",
          "text": [
            "5\n"
          ]
        }
      ]
    },
    {
      "cell_type": "code",
      "source": [
        "# Answer_14:\n",
        "\n",
        "animals = ('dog', 'cat', 'rabbit')\n",
        "print(animals.index(\"cat\"))"
      ],
      "metadata": {
        "colab": {
          "base_uri": "https://localhost:8080/"
        },
        "id": "q6S0V1U7kwM1",
        "outputId": "1a973ba0-4e66-4a33-8aab-50417d6a8448"
      },
      "execution_count": 17,
      "outputs": [
        {
          "output_type": "stream",
          "name": "stdout",
          "text": [
            "1\n"
          ]
        }
      ]
    },
    {
      "cell_type": "code",
      "source": [
        "# Answer_ 15:\n",
        "\n",
        "fruits = (\"apple\", \"banana\", \"cherry\")\n",
        "print(\"kiwi\" in fruits)"
      ],
      "metadata": {
        "colab": {
          "base_uri": "https://localhost:8080/"
        },
        "id": "PCBzHXSxk2vr",
        "outputId": "29786145-ccff-4abc-8edc-fc5685da3f69"
      },
      "execution_count": 18,
      "outputs": [
        {
          "output_type": "stream",
          "name": "stdout",
          "text": [
            "False\n"
          ]
        }
      ]
    },
    {
      "cell_type": "code",
      "source": [
        "# Answer_16:\n",
        "\n",
        "my_set = {'a', 'b', 'c', 'a', 'a'}\n",
        "print(my_set)"
      ],
      "metadata": {
        "colab": {
          "base_uri": "https://localhost:8080/"
        },
        "id": "EuKnqURvk9GO",
        "outputId": "41789ac5-256f-4e9d-c6e4-4357d1fcb4ca"
      },
      "execution_count": 20,
      "outputs": [
        {
          "output_type": "stream",
          "name": "stdout",
          "text": [
            "{'a', 'c', 'b'}\n"
          ]
        }
      ]
    },
    {
      "cell_type": "code",
      "source": [
        "# Answer_17:\n",
        "\n",
        "s = {1, 2, 3, 4, 5}\n",
        "s.clear()\n",
        "print(s)"
      ],
      "metadata": {
        "colab": {
          "base_uri": "https://localhost:8080/"
        },
        "id": "pKr0BVUplIL6",
        "outputId": "e406fdbe-337b-4cff-e807-d959f28ab394"
      },
      "execution_count": 21,
      "outputs": [
        {
          "output_type": "stream",
          "name": "stdout",
          "text": [
            "set()\n"
          ]
        }
      ]
    },
    {
      "cell_type": "code",
      "source": [
        "# Answer_18:\n",
        "\n",
        "s = {1, 2, 3, 4}\n",
        "s.remove(4)\n",
        "print(s)"
      ],
      "metadata": {
        "colab": {
          "base_uri": "https://localhost:8080/"
        },
        "id": "yy1jindMlPDu",
        "outputId": "82c061a2-6fba-42ab-adb1-3b35d0b6c278"
      },
      "execution_count": 22,
      "outputs": [
        {
          "output_type": "stream",
          "name": "stdout",
          "text": [
            "{1, 2, 3}\n"
          ]
        }
      ]
    },
    {
      "cell_type": "code",
      "source": [
        "# Answer_19:\n",
        "\n",
        "a = {1, 2, 3, 6}\n",
        "b = {3, 4, 5}\n",
        "print(a.union(b))"
      ],
      "metadata": {
        "colab": {
          "base_uri": "https://localhost:8080/"
        },
        "id": "KD-RhL8FlUoJ",
        "outputId": "11d9eac0-e8c5-4d10-9ef8-e0ff1fbaac32"
      },
      "execution_count": 24,
      "outputs": [
        {
          "output_type": "stream",
          "name": "stdout",
          "text": [
            "{1, 2, 3, 4, 5, 6}\n"
          ]
        }
      ]
    },
    {
      "cell_type": "code",
      "source": [
        "# Answer_20:\n",
        "\n",
        "a = {1, 2, 3, 6}\n",
        "b = {2, 3, 4, 5}\n",
        "print(a.intersection(b))"
      ],
      "metadata": {
        "colab": {
          "base_uri": "https://localhost:8080/"
        },
        "id": "JCvNIsRPlfp0",
        "outputId": "e4424f1a-eb7f-43b3-f95c-48c5fb546365"
      },
      "execution_count": 26,
      "outputs": [
        {
          "output_type": "stream",
          "name": "stdout",
          "text": [
            "{2, 3}\n"
          ]
        }
      ]
    },
    {
      "cell_type": "code",
      "source": [
        "# Answer_21:\n",
        "\n",
        "person = {\"name\": \"John Snow\", \"age\": 30, \"city\": \"Winterfell\"}\n",
        "print(person)"
      ],
      "metadata": {
        "colab": {
          "base_uri": "https://localhost:8080/"
        },
        "id": "mJgq787YlvUL",
        "outputId": "8897f9a4-7b5e-4544-ce18-00015f70249b"
      },
      "execution_count": 29,
      "outputs": [
        {
          "output_type": "stream",
          "name": "stdout",
          "text": [
            "{'name': 'John Snow', 'age': 30, 'city': 'Winterfell'}\n"
          ]
        }
      ]
    },
    {
      "cell_type": "code",
      "source": [
        "# Answer_22:\n",
        "\n",
        "person = {'name': 'John Snow', 'age': 30}\n",
        "person['country'] = 'Riverrun'\n",
        "print(person)"
      ],
      "metadata": {
        "colab": {
          "base_uri": "https://localhost:8080/"
        },
        "id": "gsT1cwx9mDJ-",
        "outputId": "5daca8c3-a786-4504-ca0e-29d8fa177d33"
      },
      "execution_count": 31,
      "outputs": [
        {
          "output_type": "stream",
          "name": "stdout",
          "text": [
            "{'name': 'John Snow', 'age': 30, 'country': 'Riverrun'}\n"
          ]
        }
      ]
    },
    {
      "cell_type": "code",
      "source": [
        "# Answer_23:\n",
        "\n",
        "info = {'name': 'Mike', 'age': 14}\n",
        "print(info['name'])"
      ],
      "metadata": {
        "colab": {
          "base_uri": "https://localhost:8080/"
        },
        "id": "1iuXloxomPZ4",
        "outputId": "b20db498-ac2e-4928-ba01-960f10167981"
      },
      "execution_count": 32,
      "outputs": [
        {
          "output_type": "stream",
          "name": "stdout",
          "text": [
            "Mike\n"
          ]
        }
      ]
    },
    {
      "cell_type": "code",
      "source": [
        "# Answer_24:\n",
        "\n",
        "person = {'name': 'Bob', 'age': 30, 'city': 'Hawkins'}\n",
        "del person['age']\n",
        "print(person)"
      ],
      "metadata": {
        "colab": {
          "base_uri": "https://localhost:8080/"
        },
        "id": "h56__43cmbab",
        "outputId": "1ccab709-3408-4b9a-f0ea-d83ece7bcee7"
      },
      "execution_count": 36,
      "outputs": [
        {
          "output_type": "stream",
          "name": "stdout",
          "text": [
            "{'name': 'Bob', 'city': 'Hawkins'}\n"
          ]
        }
      ]
    },
    {
      "cell_type": "code",
      "source": [
        "# Answer_25:\n",
        "\n",
        "data = {'name': 'Harry', 'city': 'Hogwarts'}\n",
        "print('city' in data)"
      ],
      "metadata": {
        "colab": {
          "base_uri": "https://localhost:8080/"
        },
        "id": "SKhPD9lLmsHI",
        "outputId": "e92c2e27-c499-4e06-d443-1d3d8b22f924"
      },
      "execution_count": 35,
      "outputs": [
        {
          "output_type": "stream",
          "name": "stdout",
          "text": [
            "True\n"
          ]
        }
      ]
    },
    {
      "cell_type": "code",
      "source": [
        "# Answer_26:\n",
        "\n",
        "my_list = [1, 2, 3]\n",
        "my_tuple = (4, 5, 6)\n",
        "my_dict = {\"a\": 1, \"b\": 2}\n",
        "print(my_list, my_tuple, my_dict)"
      ],
      "metadata": {
        "colab": {
          "base_uri": "https://localhost:8080/"
        },
        "id": "EWPtRZ9jm4E9",
        "outputId": "38717851-ce4d-4cd7-ecfb-e19915aa8b48"
      },
      "execution_count": 37,
      "outputs": [
        {
          "output_type": "stream",
          "name": "stdout",
          "text": [
            "[1, 2, 3] (4, 5, 6) {'a': 1, 'b': 2}\n"
          ]
        }
      ]
    },
    {
      "cell_type": "code",
      "source": [
        "# Answer_27:\n",
        "\n",
        "import random\n",
        "nums = random.sample(range(1, 101), 5)\n",
        "nums.sort()\n",
        "print(nums)"
      ],
      "metadata": {
        "colab": {
          "base_uri": "https://localhost:8080/"
        },
        "id": "FswTXddjnJZy",
        "outputId": "3d591c43-baf8-4312-9fc6-ee12d3edf528"
      },
      "execution_count": 39,
      "outputs": [
        {
          "output_type": "stream",
          "name": "stdout",
          "text": [
            "[4, 6, 14, 71, 81]\n"
          ]
        }
      ]
    },
    {
      "cell_type": "code",
      "source": [
        "# Answer_28:\n",
        "\n",
        "words = [\"Hogwarts\", \"Hawkins\", \"Las Cumbres\", \"Doremon\", \"Oswald\"]\n",
        "print(words[3])"
      ],
      "metadata": {
        "colab": {
          "base_uri": "https://localhost:8080/"
        },
        "id": "b_N_DPg4nThD",
        "outputId": "353a95e3-a7ff-45c6-fc0b-e7825f138ef7"
      },
      "execution_count": 42,
      "outputs": [
        {
          "output_type": "stream",
          "name": "stdout",
          "text": [
            "Doremon\n"
          ]
        }
      ]
    },
    {
      "cell_type": "code",
      "source": [
        "# Answer_29:\n",
        "\n",
        "d1 = {\"a\": 1, \"b\": 2}\n",
        "d2 = {\"c\": 3, \"d\": 4}\n",
        "combined = {**d1, **d2}\n",
        "print(combined)"
      ],
      "metadata": {
        "colab": {
          "base_uri": "https://localhost:8080/"
        },
        "id": "9q-EjKKSn4lF",
        "outputId": "25805c17-b473-4108-d477-253c21dbe198"
      },
      "execution_count": 43,
      "outputs": [
        {
          "output_type": "stream",
          "name": "stdout",
          "text": [
            "{'a': 1, 'b': 2, 'c': 3, 'd': 4}\n"
          ]
        }
      ]
    },
    {
      "cell_type": "code",
      "source": [
        "# Answer_30:\n",
        "\n",
        "str_list = [\"a\", \"b\", \"c\", \"a\"]\n",
        "str_set = set(str_list)\n",
        "print(str_set)"
      ],
      "metadata": {
        "colab": {
          "base_uri": "https://localhost:8080/"
        },
        "id": "SIcFmiyFn-T9",
        "outputId": "e59b5eca-1931-4160-e3b9-40c7e79e0b3f"
      },
      "execution_count": 44,
      "outputs": [
        {
          "output_type": "stream",
          "name": "stdout",
          "text": [
            "{'a', 'c', 'b'}\n"
          ]
        }
      ]
    }
  ]
}